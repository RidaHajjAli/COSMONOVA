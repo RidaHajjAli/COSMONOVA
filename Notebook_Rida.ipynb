{
  "nbformat": 4,
  "nbformat_minor": 0,
  "metadata": {
    "colab": {
      "provenance": [],
      "gpuType": "T4"
    },
    "kernelspec": {
      "name": "python3",
      "display_name": "Python 3"
    },
    "language_info": {
      "name": "python"
    },
    "accelerator": "GPU"
  },
  "cells": [
    {
      "cell_type": "code",
      "execution_count": 1,
      "metadata": {
        "colab": {
          "base_uri": "https://localhost:8080/"
        },
        "id": "feJrGUC9uPp8",
        "outputId": "984b83f6-181b-424e-9b87-e737db78bec7"
      },
      "outputs": [
        {
          "output_type": "stream",
          "name": "stdout",
          "text": [
            "\u001b[2K   \u001b[90m━━━━━━━━━━━━━━━━━━━━━━━━━━━━━━━━━━━━━━━━\u001b[0m \u001b[32m99.2/99.2 MB\u001b[0m \u001b[31m10.3 MB/s\u001b[0m eta \u001b[36m0:00:00\u001b[0m\n",
            "\u001b[?25h"
          ]
        }
      ],
      "source": [
        "!pip install catboost -q"
      ]
    },
    {
      "cell_type": "code",
      "source": [
        "import pandas as pd\n",
        "import numpy as np\n",
        "import seaborn as sns\n",
        "import matplotlib.pyplot as plt\n",
        "from sklearn.model_selection import train_test_split\n",
        "from sklearn.metrics import classification_report, confusion_matrix\n",
        "from catboost import CatBoostClassifier"
      ],
      "metadata": {
        "id": "GXkb96puucm5"
      },
      "execution_count": 2,
      "outputs": []
    },
    {
      "cell_type": "code",
      "source": [
        "df = pd.read_excel('NASA_data_set.xlsx')\n",
        "df = df.drop(columns=[\"koi_teq_err1\",\"koi_score\", \"koi_teq_err2\",\"kepid\",\"kepoi_name\",\"kepler_name\",\"dec\",\"ra\",\"koi_teq\",\"koi_insol\",\"koi_tce_delivname\",\"koi_period_err1\",\"koi_tce_plnt_num\",\"koi_period_err2\",\"koi_time0bk_err1\",\"koi_time0bk_err2\",\"koi_impact_err1\",\"koi_impact_err2\",\"koi_duration_err1\",\"koi_duration_err2\",\"koi_depth_err1\",\"koi_depth_err2\",\"koi_prad_err1\",\"koi_prad_err2\",\"koi_teq_err1\",\"koi_teq_err2\",\"koi_insol_err1\",\"koi_insol_err2\",\"koi_steff_err1\",\"koi_steff_err2\",\"koi_slogg_err1\",\"koi_slogg_err2\",\"koi_srad_err1\",\"koi_srad_err2\",\"koi_pdisposition\",\"koi_fpflag_nt\",\"koi_fpflag_ss\",\"koi_fpflag_co\",\"koi_fpflag_ec\"])\n",
        "df.head()"
      ],
      "metadata": {
        "colab": {
          "base_uri": "https://localhost:8080/",
          "height": 226
        },
        "id": "3QaYjZrIum_t",
        "outputId": "f673e98f-711e-410a-ce96-2bf3382d23a7"
      },
      "execution_count": 3,
      "outputs": [
        {
          "output_type": "execute_result",
          "data": {
            "text/plain": [
              "  koi_disposition  koi_period  koi_time0bk  koi_impact  koi_duration  \\\n",
              "0       CONFIRMED    9.488036   170.538750       0.146       2.95750   \n",
              "1       CONFIRMED   54.418383   162.513840       0.586       4.50700   \n",
              "2       CANDIDATE   19.899140   175.850252       0.969       1.78220   \n",
              "3  FALSE POSITIVE    1.736952   170.307565       1.276       2.40641   \n",
              "4       CONFIRMED    2.525592   171.595550       0.701       1.65450   \n",
              "\n",
              "   koi_depth  koi_prad  koi_model_snr  koi_steff  koi_slogg  koi_srad  \\\n",
              "0      615.8      2.26           35.8     5455.0      4.467     0.927   \n",
              "1      874.8      2.83           25.8     5455.0      4.467     0.927   \n",
              "2    10829.0     14.60           76.3     5853.0      4.544     0.868   \n",
              "3     8079.2     33.46          505.6     5805.0      4.564     0.791   \n",
              "4      603.3      2.75           40.9     6031.0      4.438     1.046   \n",
              "\n",
              "   koi_kepmag  \n",
              "0      15.347  \n",
              "1      15.347  \n",
              "2      15.436  \n",
              "3      15.597  \n",
              "4      15.509  "
            ],
            "text/html": [
              "\n",
              "  <div id=\"df-87168d28-6fcf-4d2e-8485-cb32cb095a2c\" class=\"colab-df-container\">\n",
              "    <div>\n",
              "<style scoped>\n",
              "    .dataframe tbody tr th:only-of-type {\n",
              "        vertical-align: middle;\n",
              "    }\n",
              "\n",
              "    .dataframe tbody tr th {\n",
              "        vertical-align: top;\n",
              "    }\n",
              "\n",
              "    .dataframe thead th {\n",
              "        text-align: right;\n",
              "    }\n",
              "</style>\n",
              "<table border=\"1\" class=\"dataframe\">\n",
              "  <thead>\n",
              "    <tr style=\"text-align: right;\">\n",
              "      <th></th>\n",
              "      <th>koi_disposition</th>\n",
              "      <th>koi_period</th>\n",
              "      <th>koi_time0bk</th>\n",
              "      <th>koi_impact</th>\n",
              "      <th>koi_duration</th>\n",
              "      <th>koi_depth</th>\n",
              "      <th>koi_prad</th>\n",
              "      <th>koi_model_snr</th>\n",
              "      <th>koi_steff</th>\n",
              "      <th>koi_slogg</th>\n",
              "      <th>koi_srad</th>\n",
              "      <th>koi_kepmag</th>\n",
              "    </tr>\n",
              "  </thead>\n",
              "  <tbody>\n",
              "    <tr>\n",
              "      <th>0</th>\n",
              "      <td>CONFIRMED</td>\n",
              "      <td>9.488036</td>\n",
              "      <td>170.538750</td>\n",
              "      <td>0.146</td>\n",
              "      <td>2.95750</td>\n",
              "      <td>615.8</td>\n",
              "      <td>2.26</td>\n",
              "      <td>35.8</td>\n",
              "      <td>5455.0</td>\n",
              "      <td>4.467</td>\n",
              "      <td>0.927</td>\n",
              "      <td>15.347</td>\n",
              "    </tr>\n",
              "    <tr>\n",
              "      <th>1</th>\n",
              "      <td>CONFIRMED</td>\n",
              "      <td>54.418383</td>\n",
              "      <td>162.513840</td>\n",
              "      <td>0.586</td>\n",
              "      <td>4.50700</td>\n",
              "      <td>874.8</td>\n",
              "      <td>2.83</td>\n",
              "      <td>25.8</td>\n",
              "      <td>5455.0</td>\n",
              "      <td>4.467</td>\n",
              "      <td>0.927</td>\n",
              "      <td>15.347</td>\n",
              "    </tr>\n",
              "    <tr>\n",
              "      <th>2</th>\n",
              "      <td>CANDIDATE</td>\n",
              "      <td>19.899140</td>\n",
              "      <td>175.850252</td>\n",
              "      <td>0.969</td>\n",
              "      <td>1.78220</td>\n",
              "      <td>10829.0</td>\n",
              "      <td>14.60</td>\n",
              "      <td>76.3</td>\n",
              "      <td>5853.0</td>\n",
              "      <td>4.544</td>\n",
              "      <td>0.868</td>\n",
              "      <td>15.436</td>\n",
              "    </tr>\n",
              "    <tr>\n",
              "      <th>3</th>\n",
              "      <td>FALSE POSITIVE</td>\n",
              "      <td>1.736952</td>\n",
              "      <td>170.307565</td>\n",
              "      <td>1.276</td>\n",
              "      <td>2.40641</td>\n",
              "      <td>8079.2</td>\n",
              "      <td>33.46</td>\n",
              "      <td>505.6</td>\n",
              "      <td>5805.0</td>\n",
              "      <td>4.564</td>\n",
              "      <td>0.791</td>\n",
              "      <td>15.597</td>\n",
              "    </tr>\n",
              "    <tr>\n",
              "      <th>4</th>\n",
              "      <td>CONFIRMED</td>\n",
              "      <td>2.525592</td>\n",
              "      <td>171.595550</td>\n",
              "      <td>0.701</td>\n",
              "      <td>1.65450</td>\n",
              "      <td>603.3</td>\n",
              "      <td>2.75</td>\n",
              "      <td>40.9</td>\n",
              "      <td>6031.0</td>\n",
              "      <td>4.438</td>\n",
              "      <td>1.046</td>\n",
              "      <td>15.509</td>\n",
              "    </tr>\n",
              "  </tbody>\n",
              "</table>\n",
              "</div>\n",
              "    <div class=\"colab-df-buttons\">\n",
              "\n",
              "  <div class=\"colab-df-container\">\n",
              "    <button class=\"colab-df-convert\" onclick=\"convertToInteractive('df-87168d28-6fcf-4d2e-8485-cb32cb095a2c')\"\n",
              "            title=\"Convert this dataframe to an interactive table.\"\n",
              "            style=\"display:none;\">\n",
              "\n",
              "  <svg xmlns=\"http://www.w3.org/2000/svg\" height=\"24px\" viewBox=\"0 -960 960 960\">\n",
              "    <path d=\"M120-120v-720h720v720H120Zm60-500h600v-160H180v160Zm220 220h160v-160H400v160Zm0 220h160v-160H400v160ZM180-400h160v-160H180v160Zm440 0h160v-160H620v160ZM180-180h160v-160H180v160Zm440 0h160v-160H620v160Z\"/>\n",
              "  </svg>\n",
              "    </button>\n",
              "\n",
              "  <style>\n",
              "    .colab-df-container {\n",
              "      display:flex;\n",
              "      gap: 12px;\n",
              "    }\n",
              "\n",
              "    .colab-df-convert {\n",
              "      background-color: #E8F0FE;\n",
              "      border: none;\n",
              "      border-radius: 50%;\n",
              "      cursor: pointer;\n",
              "      display: none;\n",
              "      fill: #1967D2;\n",
              "      height: 32px;\n",
              "      padding: 0 0 0 0;\n",
              "      width: 32px;\n",
              "    }\n",
              "\n",
              "    .colab-df-convert:hover {\n",
              "      background-color: #E2EBFA;\n",
              "      box-shadow: 0px 1px 2px rgba(60, 64, 67, 0.3), 0px 1px 3px 1px rgba(60, 64, 67, 0.15);\n",
              "      fill: #174EA6;\n",
              "    }\n",
              "\n",
              "    .colab-df-buttons div {\n",
              "      margin-bottom: 4px;\n",
              "    }\n",
              "\n",
              "    [theme=dark] .colab-df-convert {\n",
              "      background-color: #3B4455;\n",
              "      fill: #D2E3FC;\n",
              "    }\n",
              "\n",
              "    [theme=dark] .colab-df-convert:hover {\n",
              "      background-color: #434B5C;\n",
              "      box-shadow: 0px 1px 3px 1px rgba(0, 0, 0, 0.15);\n",
              "      filter: drop-shadow(0px 1px 2px rgba(0, 0, 0, 0.3));\n",
              "      fill: #FFFFFF;\n",
              "    }\n",
              "  </style>\n",
              "\n",
              "    <script>\n",
              "      const buttonEl =\n",
              "        document.querySelector('#df-87168d28-6fcf-4d2e-8485-cb32cb095a2c button.colab-df-convert');\n",
              "      buttonEl.style.display =\n",
              "        google.colab.kernel.accessAllowed ? 'block' : 'none';\n",
              "\n",
              "      async function convertToInteractive(key) {\n",
              "        const element = document.querySelector('#df-87168d28-6fcf-4d2e-8485-cb32cb095a2c');\n",
              "        const dataTable =\n",
              "          await google.colab.kernel.invokeFunction('convertToInteractive',\n",
              "                                                    [key], {});\n",
              "        if (!dataTable) return;\n",
              "\n",
              "        const docLinkHtml = 'Like what you see? Visit the ' +\n",
              "          '<a target=\"_blank\" href=https://colab.research.google.com/notebooks/data_table.ipynb>data table notebook</a>'\n",
              "          + ' to learn more about interactive tables.';\n",
              "        element.innerHTML = '';\n",
              "        dataTable['output_type'] = 'display_data';\n",
              "        await google.colab.output.renderOutput(dataTable, element);\n",
              "        const docLink = document.createElement('div');\n",
              "        docLink.innerHTML = docLinkHtml;\n",
              "        element.appendChild(docLink);\n",
              "      }\n",
              "    </script>\n",
              "  </div>\n",
              "\n",
              "\n",
              "    <div id=\"df-fe5a6d52-948b-4202-8124-aefd65fc6cfd\">\n",
              "      <button class=\"colab-df-quickchart\" onclick=\"quickchart('df-fe5a6d52-948b-4202-8124-aefd65fc6cfd')\"\n",
              "                title=\"Suggest charts\"\n",
              "                style=\"display:none;\">\n",
              "\n",
              "<svg xmlns=\"http://www.w3.org/2000/svg\" height=\"24px\"viewBox=\"0 0 24 24\"\n",
              "     width=\"24px\">\n",
              "    <g>\n",
              "        <path d=\"M19 3H5c-1.1 0-2 .9-2 2v14c0 1.1.9 2 2 2h14c1.1 0 2-.9 2-2V5c0-1.1-.9-2-2-2zM9 17H7v-7h2v7zm4 0h-2V7h2v10zm4 0h-2v-4h2v4z\"/>\n",
              "    </g>\n",
              "</svg>\n",
              "      </button>\n",
              "\n",
              "<style>\n",
              "  .colab-df-quickchart {\n",
              "      --bg-color: #E8F0FE;\n",
              "      --fill-color: #1967D2;\n",
              "      --hover-bg-color: #E2EBFA;\n",
              "      --hover-fill-color: #174EA6;\n",
              "      --disabled-fill-color: #AAA;\n",
              "      --disabled-bg-color: #DDD;\n",
              "  }\n",
              "\n",
              "  [theme=dark] .colab-df-quickchart {\n",
              "      --bg-color: #3B4455;\n",
              "      --fill-color: #D2E3FC;\n",
              "      --hover-bg-color: #434B5C;\n",
              "      --hover-fill-color: #FFFFFF;\n",
              "      --disabled-bg-color: #3B4455;\n",
              "      --disabled-fill-color: #666;\n",
              "  }\n",
              "\n",
              "  .colab-df-quickchart {\n",
              "    background-color: var(--bg-color);\n",
              "    border: none;\n",
              "    border-radius: 50%;\n",
              "    cursor: pointer;\n",
              "    display: none;\n",
              "    fill: var(--fill-color);\n",
              "    height: 32px;\n",
              "    padding: 0;\n",
              "    width: 32px;\n",
              "  }\n",
              "\n",
              "  .colab-df-quickchart:hover {\n",
              "    background-color: var(--hover-bg-color);\n",
              "    box-shadow: 0 1px 2px rgba(60, 64, 67, 0.3), 0 1px 3px 1px rgba(60, 64, 67, 0.15);\n",
              "    fill: var(--button-hover-fill-color);\n",
              "  }\n",
              "\n",
              "  .colab-df-quickchart-complete:disabled,\n",
              "  .colab-df-quickchart-complete:disabled:hover {\n",
              "    background-color: var(--disabled-bg-color);\n",
              "    fill: var(--disabled-fill-color);\n",
              "    box-shadow: none;\n",
              "  }\n",
              "\n",
              "  .colab-df-spinner {\n",
              "    border: 2px solid var(--fill-color);\n",
              "    border-color: transparent;\n",
              "    border-bottom-color: var(--fill-color);\n",
              "    animation:\n",
              "      spin 1s steps(1) infinite;\n",
              "  }\n",
              "\n",
              "  @keyframes spin {\n",
              "    0% {\n",
              "      border-color: transparent;\n",
              "      border-bottom-color: var(--fill-color);\n",
              "      border-left-color: var(--fill-color);\n",
              "    }\n",
              "    20% {\n",
              "      border-color: transparent;\n",
              "      border-left-color: var(--fill-color);\n",
              "      border-top-color: var(--fill-color);\n",
              "    }\n",
              "    30% {\n",
              "      border-color: transparent;\n",
              "      border-left-color: var(--fill-color);\n",
              "      border-top-color: var(--fill-color);\n",
              "      border-right-color: var(--fill-color);\n",
              "    }\n",
              "    40% {\n",
              "      border-color: transparent;\n",
              "      border-right-color: var(--fill-color);\n",
              "      border-top-color: var(--fill-color);\n",
              "    }\n",
              "    60% {\n",
              "      border-color: transparent;\n",
              "      border-right-color: var(--fill-color);\n",
              "    }\n",
              "    80% {\n",
              "      border-color: transparent;\n",
              "      border-right-color: var(--fill-color);\n",
              "      border-bottom-color: var(--fill-color);\n",
              "    }\n",
              "    90% {\n",
              "      border-color: transparent;\n",
              "      border-bottom-color: var(--fill-color);\n",
              "    }\n",
              "  }\n",
              "</style>\n",
              "\n",
              "      <script>\n",
              "        async function quickchart(key) {\n",
              "          const quickchartButtonEl =\n",
              "            document.querySelector('#' + key + ' button');\n",
              "          quickchartButtonEl.disabled = true;  // To prevent multiple clicks.\n",
              "          quickchartButtonEl.classList.add('colab-df-spinner');\n",
              "          try {\n",
              "            const charts = await google.colab.kernel.invokeFunction(\n",
              "                'suggestCharts', [key], {});\n",
              "          } catch (error) {\n",
              "            console.error('Error during call to suggestCharts:', error);\n",
              "          }\n",
              "          quickchartButtonEl.classList.remove('colab-df-spinner');\n",
              "          quickchartButtonEl.classList.add('colab-df-quickchart-complete');\n",
              "        }\n",
              "        (() => {\n",
              "          let quickchartButtonEl =\n",
              "            document.querySelector('#df-fe5a6d52-948b-4202-8124-aefd65fc6cfd button');\n",
              "          quickchartButtonEl.style.display =\n",
              "            google.colab.kernel.accessAllowed ? 'block' : 'none';\n",
              "        })();\n",
              "      </script>\n",
              "    </div>\n",
              "\n",
              "    </div>\n",
              "  </div>\n"
            ],
            "application/vnd.google.colaboratory.intrinsic+json": {
              "type": "dataframe",
              "variable_name": "df",
              "summary": "{\n  \"name\": \"df\",\n  \"rows\": 9564,\n  \"fields\": [\n    {\n      \"column\": \"koi_disposition\",\n      \"properties\": {\n        \"dtype\": \"category\",\n        \"num_unique_values\": 3,\n        \"samples\": [\n          \"CONFIRMED\",\n          \"CANDIDATE\",\n          \"FALSE POSITIVE\"\n        ],\n        \"semantic_type\": \"\",\n        \"description\": \"\"\n      }\n    },\n    {\n      \"column\": \"koi_period\",\n      \"properties\": {\n        \"dtype\": \"number\",\n        \"std\": 1334.7440460616708,\n        \"min\": 0.241842544,\n        \"max\": 129995.7784,\n        \"num_unique_values\": 9564,\n        \"samples\": [\n          2.42186898,\n          10.00506974,\n          8.689301216\n        ],\n        \"semantic_type\": \"\",\n        \"description\": \"\"\n      }\n    },\n    {\n      \"column\": \"koi_time0bk\",\n      \"properties\": {\n        \"dtype\": \"number\",\n        \"std\": 67.91895957765789,\n        \"min\": 120.5159138,\n        \"max\": 1472.522306,\n        \"num_unique_values\": 9538,\n        \"samples\": [\n          132.0711,\n          133.219686,\n          132.1070518\n        ],\n        \"semantic_type\": \"\",\n        \"description\": \"\"\n      }\n    },\n    {\n      \"column\": \"koi_impact\",\n      \"properties\": {\n        \"dtype\": \"number\",\n        \"std\": 3.3488320204098203,\n        \"min\": 0.0,\n        \"max\": 100.806,\n        \"num_unique_values\": 2406,\n        \"samples\": [\n          0.3153,\n          1.073,\n          0.5353\n        ],\n        \"semantic_type\": \"\",\n        \"description\": \"\"\n      }\n    },\n    {\n      \"column\": \"koi_duration\",\n      \"properties\": {\n        \"dtype\": \"number\",\n        \"std\": 6.471553737253232,\n        \"min\": 0.052,\n        \"max\": 138.54,\n        \"num_unique_values\": 7834,\n        \"samples\": [\n          5.884,\n          7.5945,\n          3.4015\n        ],\n        \"semantic_type\": \"\",\n        \"description\": \"\"\n      }\n    },\n    {\n      \"column\": \"koi_depth\",\n      \"properties\": {\n        \"dtype\": \"number\",\n        \"std\": 82242.68314876726,\n        \"min\": 0.0,\n        \"max\": 1541400.0,\n        \"num_unique_values\": 6947,\n        \"samples\": [\n          738.0,\n          342.1,\n          557740.0\n        ],\n        \"semantic_type\": \"\",\n        \"description\": \"\"\n      }\n    },\n    {\n      \"column\": \"koi_prad\",\n      \"properties\": {\n        \"dtype\": \"number\",\n        \"std\": 3077.639126222184,\n        \"min\": 0.08,\n        \"max\": 200346.0,\n        \"num_unique_values\": 2988,\n        \"samples\": [\n          60.45,\n          19.31,\n          30.37\n        ],\n        \"semantic_type\": \"\",\n        \"description\": \"\"\n      }\n    },\n    {\n      \"column\": \"koi_model_snr\",\n      \"properties\": {\n        \"dtype\": \"number\",\n        \"std\": 795.8066147305611,\n        \"min\": 0.0,\n        \"max\": 9054.7,\n        \"num_unique_values\": 2740,\n        \"samples\": [\n          80.8,\n          12.1,\n          69.6\n        ],\n        \"semantic_type\": \"\",\n        \"description\": \"\"\n      }\n    },\n    {\n      \"column\": \"koi_steff\",\n      \"properties\": {\n        \"dtype\": \"number\",\n        \"std\": 796.8579473983364,\n        \"min\": 2661.0,\n        \"max\": 15896.0,\n        \"num_unique_values\": 2445,\n        \"samples\": [\n          5289.0,\n          3386.0,\n          6271.0\n        ],\n        \"semantic_type\": \"\",\n        \"description\": \"\"\n      }\n    },\n    {\n      \"column\": \"koi_slogg\",\n      \"properties\": {\n        \"dtype\": \"number\",\n        \"std\": 0.43260645728261754,\n        \"min\": 0.047,\n        \"max\": 5.364,\n        \"num_unique_values\": 1557,\n        \"samples\": [\n          1.549,\n          4.505,\n          4.558\n        ],\n        \"semantic_type\": \"\",\n        \"description\": \"\"\n      }\n    },\n    {\n      \"column\": \"koi_srad\",\n      \"properties\": {\n        \"dtype\": \"number\",\n        \"std\": 6.127184682008658,\n        \"min\": 0.109,\n        \"max\": 229.908,\n        \"num_unique_values\": 2289,\n        \"samples\": [\n          1.734,\n          1.042,\n          1.182\n        ],\n        \"semantic_type\": \"\",\n        \"description\": \"\"\n      }\n    },\n    {\n      \"column\": \"koi_kepmag\",\n      \"properties\": {\n        \"dtype\": \"number\",\n        \"std\": 1.3854481254820719,\n        \"min\": 6.966,\n        \"max\": 20.003,\n        \"num_unique_values\": 3887,\n        \"samples\": [\n          14.511,\n          11.709,\n          13.048\n        ],\n        \"semantic_type\": \"\",\n        \"description\": \"\"\n      }\n    }\n  ]\n}"
            }
          },
          "metadata": {},
          "execution_count": 3
        }
      ]
    },
    {
      "cell_type": "code",
      "source": [
        "candidates_df = df[df['koi_disposition'] == 'CANDIDATE'].copy()\n",
        "\n",
        "# Create the training dataset using only labeled data\n",
        "train_df = df[df['koi_disposition'] != 'CANDIDATE'].copy()\n",
        "\n",
        "print(f\"Training data size: {len(train_df)}\")\n",
        "print(f\"Candidate data size for final prediction: {len(candidates_df)}\")"
      ],
      "metadata": {
        "colab": {
          "base_uri": "https://localhost:8080/"
        },
        "id": "xHdXD1KvusSn",
        "outputId": "4853ba73-b99f-436c-d7d4-e287c870e9cf"
      },
      "execution_count": 4,
      "outputs": [
        {
          "output_type": "stream",
          "name": "stdout",
          "text": [
            "Training data size: 7585\n",
            "Candidate data size for final prediction: 1979\n"
          ]
        }
      ]
    },
    {
      "cell_type": "code",
      "source": [
        "train_df['koi_disposition'] = train_df['koi_disposition'].apply(lambda x: 1 if x == 'CONFIRMED' else 0)"
      ],
      "metadata": {
        "id": "vCRU0uVivWuM"
      },
      "execution_count": 9,
      "outputs": []
    },
    {
      "cell_type": "code",
      "source": [
        "features_to_drop = [\n",
        "    'kepid', 'kepoi_name', 'kepler_name', 'koi_disposition',\n",
        "    'koi_pdisposition'\n",
        "]"
      ],
      "metadata": {
        "id": "oUStmFfDu1NF"
      },
      "execution_count": 10,
      "outputs": []
    },
    {
      "cell_type": "code",
      "source": [
        "# safer dropping\n",
        "drop_cols = [col for col in features_to_drop if col in train_df.columns]\n",
        "\n",
        "y = train_df['koi_disposition']\n",
        "X = train_df.drop(columns=drop_cols)"
      ],
      "metadata": {
        "id": "3fTau4tMu4AR"
      },
      "execution_count": 12,
      "outputs": []
    },
    {
      "cell_type": "code",
      "source": [
        "X_candidates = candidates_df.drop(columns=drop_cols)"
      ],
      "metadata": {
        "id": "KOejF2jau60m"
      },
      "execution_count": 13,
      "outputs": []
    },
    {
      "cell_type": "code",
      "source": [
        "for col in X.columns:\n",
        "    if X[col].isnull().any():\n",
        "        median_val = X[col].median()\n",
        "        X[col].fillna(median_val, inplace=True)\n",
        "        # Use the SAME median from the training data to fill the candidate data\n",
        "        X_candidates[col].fillna(median_val, inplace=True)\n",
        "\n",
        "print(\"Preprocessing complete. No missing values remain.\")"
      ],
      "metadata": {
        "colab": {
          "base_uri": "https://localhost:8080/"
        },
        "id": "6refPtxVvjtY",
        "outputId": "872ea8bc-1903-4a4f-d541-4ac5c6100ae6"
      },
      "execution_count": 14,
      "outputs": [
        {
          "output_type": "stream",
          "name": "stdout",
          "text": [
            "Preprocessing complete. No missing values remain.\n"
          ]
        },
        {
          "output_type": "stream",
          "name": "stderr",
          "text": [
            "/tmp/ipython-input-1991848269.py:4: FutureWarning: A value is trying to be set on a copy of a DataFrame or Series through chained assignment using an inplace method.\n",
            "The behavior will change in pandas 3.0. This inplace method will never work because the intermediate object on which we are setting values always behaves as a copy.\n",
            "\n",
            "For example, when doing 'df[col].method(value, inplace=True)', try using 'df.method({col: value}, inplace=True)' or df[col] = df[col].method(value) instead, to perform the operation inplace on the original object.\n",
            "\n",
            "\n",
            "  X[col].fillna(median_val, inplace=True)\n",
            "/tmp/ipython-input-1991848269.py:6: FutureWarning: A value is trying to be set on a copy of a DataFrame or Series through chained assignment using an inplace method.\n",
            "The behavior will change in pandas 3.0. This inplace method will never work because the intermediate object on which we are setting values always behaves as a copy.\n",
            "\n",
            "For example, when doing 'df[col].method(value, inplace=True)', try using 'df.method({col: value}, inplace=True)' or df[col] = df[col].method(value) instead, to perform the operation inplace on the original object.\n",
            "\n",
            "\n",
            "  X_candidates[col].fillna(median_val, inplace=True)\n"
          ]
        }
      ]
    },
    {
      "cell_type": "code",
      "source": [
        "X_train, X_val, y_train, y_val = train_test_split(\n",
        "    X, y,\n",
        "    test_size=0.25, # 25% for validation\n",
        "    random_state=42,\n",
        "    stratify=y\n",
        ")"
      ],
      "metadata": {
        "id": "dXiL8B0NvmI6"
      },
      "execution_count": 15,
      "outputs": []
    },
    {
      "cell_type": "code",
      "source": [
        "model = CatBoostClassifier(random_state=42, verbose=0, iterations=500)\n",
        "\n",
        "# Train the model on the training data\n",
        "model.fit(X_train, y_train)"
      ],
      "metadata": {
        "colab": {
          "base_uri": "https://localhost:8080/"
        },
        "id": "EAHyz-blvqPg",
        "outputId": "22ca2674-afcb-42ef-de41-54f242ea1b3e"
      },
      "execution_count": 16,
      "outputs": [
        {
          "output_type": "execute_result",
          "data": {
            "text/plain": [
              "<catboost.core.CatBoostClassifier at 0x7c8d45b6d970>"
            ]
          },
          "metadata": {},
          "execution_count": 16
        }
      ]
    },
    {
      "cell_type": "code",
      "source": [
        "print(\"\\n--- Evaluating Model Performance on Validation Set ---\")\n",
        "\n",
        "# Make predictions on the unseen validation data\n",
        "y_pred = model.predict(X_val)\n",
        "\n",
        "# Print the classification report (Precision, Recall, F1-Score)\n",
        "print(\"Classification Report:\")\n",
        "print(classification_report(y_val, y_pred, target_names=['FALSE POSITIVE', 'CONFIRMED']))\n",
        "\n",
        "# Display a more visual confusion matrix\n",
        "print(\"Confusion Matrix:\")\n",
        "cm = confusion_matrix(y_val, y_pred)\n",
        "sns.heatmap(cm, annot=True, fmt='d', cmap='Blues', xticklabels=['FP', 'Confirmed'], yticklabels=['FP', 'Confirmed'])\n",
        "plt.ylabel('Actual')\n",
        "plt.xlabel('Predicted')\n",
        "plt.title('Validation Confusion Matrix')\n",
        "plt.show()"
      ],
      "metadata": {
        "colab": {
          "base_uri": "https://localhost:8080/",
          "height": 703
        },
        "id": "zKLUSgOlvs_w",
        "outputId": "9cfad957-534f-4ce7-ef98-f125df99ac6d"
      },
      "execution_count": 17,
      "outputs": [
        {
          "output_type": "stream",
          "name": "stdout",
          "text": [
            "\n",
            "--- Evaluating Model Performance on Validation Set ---\n",
            "Classification Report:\n",
            "                precision    recall  f1-score   support\n",
            "\n",
            "FALSE POSITIVE       0.95      0.94      0.95      1210\n",
            "     CONFIRMED       0.90      0.92      0.91       687\n",
            "\n",
            "      accuracy                           0.93      1897\n",
            "     macro avg       0.93      0.93      0.93      1897\n",
            "  weighted avg       0.93      0.93      0.93      1897\n",
            "\n",
            "Confusion Matrix:\n"
          ]
        },
        {
          "output_type": "display_data",
          "data": {
            "text/plain": [
              "<Figure size 640x480 with 2 Axes>"
            ],
            "image/png": "[encoded data removed]"
          },
          "metadata": {}
        }
      ]
    },
    {
      "cell_type": "code",
      "source": [
        "candidate_predictions = model.predict(X_candidates)\n",
        "\n",
        "# Get the probability scores (how confident the model is)\n",
        "candidate_probabilities = model.predict_proba(X_candidates)[:, 1] # Probability of being 'CONFIRMED'"
      ],
      "metadata": {
        "id": "I836yjMsvxU7"
      },
      "execution_count": 18,
      "outputs": []
    },
    {
      "cell_type": "code",
      "source": [
        "results_df = candidates_df.copy()\n",
        "results_df['predicted_disposition'] = ['CONFIRMED' if pred == 1 else 'FALSE POSITIVE' for pred in candidate_predictions]\n",
        "results_df['probability_confirmed'] = candidate_probabilities\n",
        "\n",
        "print(\"Final Predictions on Candidate Data:\")\n",
        "# Display the first 10 candidates and their new classifications\n",
        "print(results_df.head(10))"
      ],
      "metadata": {
        "colab": {
          "base_uri": "https://localhost:8080/"
        },
        "id": "Jxnbfogmv3yG",
        "outputId": "37488b07-ae61-486a-ba7b-6ccd5b82748b"
      },
      "execution_count": 20,
      "outputs": [
        {
          "output_type": "stream",
          "name": "stdout",
          "text": [
            "Final Predictions on Candidate Data:\n",
            "    koi_disposition  koi_period  koi_time0bk  koi_impact  koi_duration  \\\n",
            "2         CANDIDATE   19.899140   175.850252      0.9690        1.7822   \n",
            "58        CANDIDATE   40.419504   173.564690      0.9110        3.3620   \n",
            "62        CANDIDATE    7.240661   137.755450      1.1980        0.5580   \n",
            "63        CANDIDATE    3.435916   132.662400      0.6240        3.1330   \n",
            "84        CANDIDATE   10.181584   177.141891      0.9200        3.5089   \n",
            "92        CANDIDATE   19.620347   181.881819      0.4580        2.0038   \n",
            "112       CANDIDATE   34.843986   172.633252      0.9340        2.9315   \n",
            "118       CANDIDATE    4.640900   173.646380      1.2800       35.5120   \n",
            "123       CANDIDATE    1.028437   170.228582      1.5734        1.8606   \n",
            "166       CANDIDATE  235.998640   208.399822      0.7780        8.2284   \n",
            "\n",
            "     koi_depth  koi_prad  koi_model_snr  koi_steff  koi_slogg  koi_srad  \\\n",
            "2      10829.0     14.60           76.3     5853.0      4.544     0.868   \n",
            "58      6256.0      7.51           36.9     5446.0      4.507     0.781   \n",
            "62       556.4     19.45           13.7     5005.0      4.595     0.765   \n",
            "63        23.2      0.55            8.7     5779.0      4.339     1.087   \n",
            "84      5741.1      7.73          183.6     5988.0      4.541     0.836   \n",
            "92     21725.0     13.60          340.5     5710.0      4.492     0.905   \n",
            "112     4523.6      7.61           76.8     5509.0      4.482     0.871   \n",
            "118     2450.6     30.09          296.9     6463.0      4.500     0.826   \n",
            "123     8098.0     72.77           89.6     6228.0      4.428     0.990   \n",
            "166    20715.0     10.59          271.8     4245.0      4.627     0.657   \n",
            "\n",
            "     koi_kepmag predicted_disposition  probability_confirmed  \n",
            "2        15.436        FALSE POSITIVE               0.077739  \n",
            "58       15.487        FALSE POSITIVE               0.371560  \n",
            "62       15.334        FALSE POSITIVE               0.414326  \n",
            "63       12.791        FALSE POSITIVE               0.106375  \n",
            "84       15.657        FALSE POSITIVE               0.190706  \n",
            "92       15.562        FALSE POSITIVE               0.456203  \n",
            "112      15.684        FALSE POSITIVE               0.317034  \n",
            "118      15.270        FALSE POSITIVE               0.000076  \n",
            "123      15.202        FALSE POSITIVE               0.002613  \n",
            "166      15.172        FALSE POSITIVE               0.473179  \n"
          ]
        }
      ]
    },
    {
      "cell_type": "code",
      "source": [
        "results_df.to_csv('candidate_planet_predictions.csv', index=False)"
      ],
      "metadata": {
        "id": "vuoDhwJJv7g5"
      },
      "execution_count": 21,
      "outputs": []
    },
    {
      "cell_type": "code",
      "source": [
        "# Save the model\n",
        "model.save_model(\"catboost_model.cbm\")"
      ],
      "metadata": {
        "id": "yN9LlR2jwNl0"
      },
      "execution_count": 22,
      "outputs": []
    },
    {
      "cell_type": "code",
      "source": [
        "# Load it later\n",
        "from catboost import CatBoostClassifier\n",
        "loaded_model = CatBoostClassifier()\n",
        "loaded_model.load_model(\"catboost_model.cbm\")"
      ],
      "metadata": {
        "colab": {
          "base_uri": "https://localhost:8080/"
        },
        "id": "9YsfR7gXwQ0z",
        "outputId": "da7af6f2-1d18-4285-cf5e-4772f442f333"
      },
      "execution_count": 23,
      "outputs": [
        {
          "output_type": "execute_result",
          "data": {
            "text/plain": [
              "<catboost.core.CatBoostClassifier at 0x7c8d44ceb560>"
            ]
          },
          "metadata": {},
          "execution_count": 23
        }
      ]
    },
    {
      "cell_type": "code",
      "source": [],
      "metadata": {
        "id": "iFmKkL8gwR_R"
      },
      "execution_count": null,
      "outputs": []
    }
  ]
}